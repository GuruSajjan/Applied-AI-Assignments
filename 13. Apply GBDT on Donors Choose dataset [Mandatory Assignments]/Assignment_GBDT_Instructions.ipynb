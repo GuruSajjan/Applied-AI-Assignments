{
 "cells": [
  {
   "cell_type": "markdown",
   "metadata": {
    "colab_type": "text",
    "id": "8wqapAXjsc24"
   },
   "source": [
    "# Assignment 9: GBDT"
   ]
  },
  {
   "cell_type": "markdown",
   "metadata": {
    "colab_type": "text",
    "id": "8u5NhbnEsc2-"
   },
   "source": [
    "#### Response Coding: Example"
   ]
  },
  {
   "cell_type": "markdown",
   "metadata": {
    "colab_type": "text",
    "id": "HIFWmwHKsc3A"
   },
   "source": [
    "<img src='http://i.imgur.com/TufZptV.jpg' width=700px>\n",
    "\n",
    "> The response tabel is built only on train dataset.\n",
    "> For a category which is not there in train data and present in test data, we will encode them with default values\n",
    "Ex: in our test data if have State: D then we encode it as [0.5, 0.05]"
   ]
  },
  {
   "cell_type": "code",
   "execution_count": null,
   "metadata": {},
   "outputs": [],
   "source": []
  },
  {
   "cell_type": "code",
   "execution_count": null,
   "metadata": {},
   "outputs": [],
   "source": []
  },
  {
   "cell_type": "markdown",
   "metadata": {
    "colab_type": "text",
    "id": "3KwfGufDsc3D"
   },
   "source": [
    "<ol>\n",
    "    <li><strong>Apply GBDT on these feature sets</strong>\n",
    "        <ul>\n",
    "            <li><font color='red'>Set 1</font>: categorical(instead of one hot encoding, try <a href='https://www.appliedaicourse.com/course/applied-ai-course-online/lessons/handling-categorical-and-numerical-features/'>response coding</a>: use probability values), numerical features + project_title(TFIDF)+  preprocessed_eassay (TFIDF)+sentiment Score of eassay(check the bellow example, include all 4 values as 4 features)</li>\n",
    "            <li><font color='red'>Set 2</font>: categorical(instead of one hot encoding, try <a href='https://www.appliedaicourse.com/course/applied-ai-course-online/lessons/handling-categorical-and-numerical-features/'>response coding</a>: use probability values), numerical features + project_title(TFIDF W2V)+  preprocessed_eassay (TFIDF W2V)</li>        \n",
    "    </li>\n",
    "    <li> Here in response encoding you need to apply the <strong>laplase smoothing</strong> value for test set. Laplase smoothing means, If test point is present in test but not in train then you need to apply default 0.5 as probability value for that data point (Refer the Response Encoding Image from above cell) </li>\n",
    "    <li>Please use atleast <strong> 35k </strong> data points </li></ul>\n",
    "    <li><strong>The hyper paramter tuning (Consider any two hyper parameters)</strong>\n",
    "        <ul>\n",
    "    <li>Find the best hyper parameter which will give the maximum <a href='https://www.appliedaicourse.com/course/applied-ai-course-online/lessons/receiver-operating-characteristic-curve-roc-curve-and-auc-1/'>AUC</a> value</li>\n",
    "    <li>find the best hyper paramter using k-fold cross validation/simple cross validation data</li>\n",
    "    <li>use gridsearch cv or randomsearch cv or you can write your own for loops to do this task</li>\n",
    "        </ul>\n",
    "    </li>\n",
    "    <li>\n",
    "    <strong>Representation of results</strong>\n",
    "        <ul>\n",
    "    <li>You need to plot the performance of model both on train data and cross validation data for each hyper parameter, like shown in the figure\n",
    "    <img src='https://i.imgur.com/Gp2DQmh.jpg' width=500px> with X-axis as <strong>n_estimators</strong>, Y-axis as <strong>max_depth</strong>, and Z-axis as <strong>AUC Score</strong> , we have given the notebook which explains how to plot this 3d plot, you can find it in the same drive <i>3d_scatter_plot.ipynb</i></li>\n",
    "            <p style=\"text-align:center;font-size:30px;color:red;\"><strong>or</strong></p> <br>\n",
    "    <li>You need to plot the performance of model both on train data and cross validation data for each hyper parameter, like shown in the figure\n",
    "    <img src='https://i.imgur.com/fgN9aUP.jpg' width=300px> <a href='https://seaborn.pydata.org/generated/seaborn.heatmap.html'>seaborn heat maps</a> with rows as <strong>n_estimators</strong>, columns as <strong>max_depth</strong>, and values inside the cell representing <strong>AUC Score</strong> </li>\n",
    "    <li>You choose either of the plotting techniques out of 3d plot or heat map</li>\n",
    "    <li>Once after you found the best hyper parameter, you need to train your model with it, and find the AUC on test data and plot the ROC curve on both train and test.\n",
    "        Make sure that you are using predict_proba method to calculate AUC curves, because AUC is calcualted on class probabilities and not on class labels.\n",
    "    <img src='https://i.imgur.com/wMQDTFe.jpg' width=300px></li>\n",
    "    <li>Along with plotting ROC curve, you need to print the <a href='https://www.appliedaicourse.com/course/applied-ai-course-online/lessons/confusion-matrix-tpr-fpr-fnr-tnr-1/'>confusion matrix</a> with predicted and original labels of test data points\n",
    "    <img src='https://i.imgur.com/IdN5Ctv.png' width=300px></li>\n",
    "            </ul>\n",
    "    <br>\n",
    "    <li>You need to summarize the results at the end of the notebook, summarize it in the table format\n",
    "        <img src='http://i.imgur.com/YVpIGGE.jpg' width=400px>\n",
    "    </li>\n",
    "</ol>"
   ]
  },
  {
   "cell_type": "markdown",
   "metadata": {},
   "source": [
    "# Few Notes"
   ]
  },
  {
   "cell_type": "markdown",
   "metadata": {},
   "source": [
    "1. Use atleast 35k data points\n",
    "2. Use classifier.Predict_proba() method instead of predict() method while calculating roc_auc scores\n",
    "3. Be sure that you are using laplase smoothing in response encoding function. Laplase smoothing means applying the default (0.5) value to test data if the test data is not present in the train set\n"
   ]
  },
  {
   "cell_type": "code",
   "execution_count": 2,
   "metadata": {
    "colab": {},
    "colab_type": "code",
    "id": "iffa2_WGsc3H",
    "outputId": "151fc2d5-3bc1-4206-9bd2-000dbf662b31"
   },
   "outputs": [
    {
     "name": "stdout",
     "output_type": "stream",
     "text": [
      "sentiment score for sentence 1 {'neg': 0.0, 'neu': 0.213, 'pos': 0.787, 'compound': 0.5719}\n",
      "sentiment score for sentence 2 {'neg': 0.756, 'neu': 0.244, 'pos': 0.0, 'compound': -0.4767}\n",
      "sentiment score for sentence 3 {'neg': 0.0, 'neu': 1.0, 'pos': 0.0, 'compound': 0.0}\n"
     ]
    }
   ],
   "source": [
    "import nltk\n",
    "from nltk.sentiment.vader import SentimentIntensityAnalyzer\n",
    "# import nltk\n",
    "# nltk.download('vader_lexicon')\n",
    "\n",
    "sid = SentimentIntensityAnalyzer()\n",
    "\n",
    "sample_sentence_1='I am happy.'\n",
    "ss_1 = sid.polarity_scores(sample_sentence_1)\n",
    "print('sentiment score for sentence 1',ss_1)\n",
    "\n",
    "sample_sentence_2='I am sad.'\n",
    "ss_2 = sid.polarity_scores(sample_sentence_2)\n",
    "print('sentiment score for sentence 2',ss_2)\n",
    "\n",
    "sample_sentence_3='I am going to New Delhi tommorow.'\n",
    "ss_3 = sid.polarity_scores(sample_sentence_3)\n",
    "print('sentiment score for sentence 3',ss_3)\n"
   ]
  },
  {
   "cell_type": "markdown",
   "metadata": {
    "colab_type": "text",
    "id": "BOyTl7oKsc3W"
   },
   "source": [
    "<h1>1. GBDT (xgboost/lightgbm) </h1>"
   ]
  },
  {
   "cell_type": "markdown",
   "metadata": {
    "colab_type": "text",
    "id": "VWge-b2Zsc3Z"
   },
   "source": [
    "## 1.1 Loading Data"
   ]
  },
  {
   "cell_type": "code",
   "execution_count": 3,
   "metadata": {
    "colab": {},
    "colab_type": "code",
    "id": "WDZFu6-usc3d"
   },
   "outputs": [],
   "source": [
    "import pandas as pd\n",
    "import numpy as np\n",
    "data = pd.read_csv('preprocessed_data.csv',nrows=35000)"
   ]
  },
  {
   "cell_type": "code",
   "execution_count": 4,
   "metadata": {},
   "outputs": [
    {
     "data": {
      "text/html": [
       "<div>\n",
       "<style scoped>\n",
       "    .dataframe tbody tr th:only-of-type {\n",
       "        vertical-align: middle;\n",
       "    }\n",
       "\n",
       "    .dataframe tbody tr th {\n",
       "        vertical-align: top;\n",
       "    }\n",
       "\n",
       "    .dataframe thead th {\n",
       "        text-align: right;\n",
       "    }\n",
       "</style>\n",
       "<table border=\"1\" class=\"dataframe\">\n",
       "  <thead>\n",
       "    <tr style=\"text-align: right;\">\n",
       "      <th></th>\n",
       "      <th>school_state</th>\n",
       "      <th>teacher_prefix</th>\n",
       "      <th>project_grade_category</th>\n",
       "      <th>teacher_number_of_previously_posted_projects</th>\n",
       "      <th>project_is_approved</th>\n",
       "      <th>clean_categories</th>\n",
       "      <th>clean_subcategories</th>\n",
       "      <th>essay</th>\n",
       "      <th>price</th>\n",
       "    </tr>\n",
       "  </thead>\n",
       "  <tbody>\n",
       "    <tr>\n",
       "      <th>0</th>\n",
       "      <td>ca</td>\n",
       "      <td>mrs</td>\n",
       "      <td>grades_prek_2</td>\n",
       "      <td>53</td>\n",
       "      <td>1</td>\n",
       "      <td>math_science</td>\n",
       "      <td>appliedsciences health_lifescience</td>\n",
       "      <td>i fortunate enough use fairy tale stem kits cl...</td>\n",
       "      <td>725.05</td>\n",
       "    </tr>\n",
       "    <tr>\n",
       "      <th>1</th>\n",
       "      <td>ut</td>\n",
       "      <td>ms</td>\n",
       "      <td>grades_3_5</td>\n",
       "      <td>4</td>\n",
       "      <td>1</td>\n",
       "      <td>specialneeds</td>\n",
       "      <td>specialneeds</td>\n",
       "      <td>imagine 8 9 years old you third grade classroo...</td>\n",
       "      <td>213.03</td>\n",
       "    </tr>\n",
       "    <tr>\n",
       "      <th>2</th>\n",
       "      <td>ca</td>\n",
       "      <td>mrs</td>\n",
       "      <td>grades_prek_2</td>\n",
       "      <td>10</td>\n",
       "      <td>1</td>\n",
       "      <td>literacy_language</td>\n",
       "      <td>literacy</td>\n",
       "      <td>having class 24 students comes diverse learner...</td>\n",
       "      <td>329.00</td>\n",
       "    </tr>\n",
       "    <tr>\n",
       "      <th>3</th>\n",
       "      <td>ga</td>\n",
       "      <td>mrs</td>\n",
       "      <td>grades_prek_2</td>\n",
       "      <td>2</td>\n",
       "      <td>1</td>\n",
       "      <td>appliedlearning</td>\n",
       "      <td>earlydevelopment</td>\n",
       "      <td>i recently read article giving students choice...</td>\n",
       "      <td>481.04</td>\n",
       "    </tr>\n",
       "    <tr>\n",
       "      <th>4</th>\n",
       "      <td>wa</td>\n",
       "      <td>mrs</td>\n",
       "      <td>grades_3_5</td>\n",
       "      <td>2</td>\n",
       "      <td>1</td>\n",
       "      <td>literacy_language</td>\n",
       "      <td>literacy</td>\n",
       "      <td>my students crave challenge eat obstacles brea...</td>\n",
       "      <td>17.74</td>\n",
       "    </tr>\n",
       "  </tbody>\n",
       "</table>\n",
       "</div>"
      ],
      "text/plain": [
       "  school_state teacher_prefix project_grade_category  \\\n",
       "0           ca            mrs          grades_prek_2   \n",
       "1           ut             ms             grades_3_5   \n",
       "2           ca            mrs          grades_prek_2   \n",
       "3           ga            mrs          grades_prek_2   \n",
       "4           wa            mrs             grades_3_5   \n",
       "\n",
       "   teacher_number_of_previously_posted_projects  project_is_approved  \\\n",
       "0                                            53                    1   \n",
       "1                                             4                    1   \n",
       "2                                            10                    1   \n",
       "3                                             2                    1   \n",
       "4                                             2                    1   \n",
       "\n",
       "    clean_categories                 clean_subcategories  \\\n",
       "0       math_science  appliedsciences health_lifescience   \n",
       "1       specialneeds                        specialneeds   \n",
       "2  literacy_language                            literacy   \n",
       "3    appliedlearning                    earlydevelopment   \n",
       "4  literacy_language                            literacy   \n",
       "\n",
       "                                               essay   price  \n",
       "0  i fortunate enough use fairy tale stem kits cl...  725.05  \n",
       "1  imagine 8 9 years old you third grade classroo...  213.03  \n",
       "2  having class 24 students comes diverse learner...  329.00  \n",
       "3  i recently read article giving students choice...  481.04  \n",
       "4  my students crave challenge eat obstacles brea...   17.74  "
      ]
     },
     "execution_count": 4,
     "metadata": {},
     "output_type": "execute_result"
    }
   ],
   "source": [
    "data.head()"
   ]
  },
  {
   "cell_type": "code",
   "execution_count": 5,
   "metadata": {},
   "outputs": [],
   "source": [
    "import nltk\n",
    "from nltk.sentiment.vader import SentimentIntensityAnalyzer\n",
    "# import nltk\n",
    "# nltk.download('vader_lexicon')\n",
    "Neg = []\n",
    "Pos = []\n",
    "Nue = []\n",
    "Comp = []\n",
    "\n",
    "sia = SentimentIntensityAnalyzer()\n",
    "for essay in data['essay'].values:\n",
    "    k = sia.polarity_scores(essay)\n",
    "    Neg.append(k['neg'])\n",
    "    Nue.append(k['neu'])\n",
    "    Pos.append(k['pos'])\n",
    "    Comp.append(k['compound'])\n",
    "\n",
    "data['Positive'] = Pos\n",
    "data['Negetive'] = Neg\n",
    "data['Nuetral'] = Nue\n",
    "data['Compound'] = Comp"
   ]
  },
  {
   "cell_type": "markdown",
   "metadata": {
    "colab_type": "text",
    "id": "6lAMFKFcsc3j"
   },
   "source": [
    "<h2>1.2 Splitting data into Train and cross validation(or test): Stratified Sampling</h2>"
   ]
  },
  {
   "cell_type": "code",
   "execution_count": 6,
   "metadata": {
    "colab": {},
    "colab_type": "code",
    "id": "ODMijuuNsc3l"
   },
   "outputs": [
    {
     "name": "stdout",
     "output_type": "stream",
     "text": [
      "(24500, 12) (24500,)\n",
      "(10500, 12) (10500,)\n"
     ]
    },
    {
     "data": {
      "text/html": [
       "<div>\n",
       "<style scoped>\n",
       "    .dataframe tbody tr th:only-of-type {\n",
       "        vertical-align: middle;\n",
       "    }\n",
       "\n",
       "    .dataframe tbody tr th {\n",
       "        vertical-align: top;\n",
       "    }\n",
       "\n",
       "    .dataframe thead th {\n",
       "        text-align: right;\n",
       "    }\n",
       "</style>\n",
       "<table border=\"1\" class=\"dataframe\">\n",
       "  <thead>\n",
       "    <tr style=\"text-align: right;\">\n",
       "      <th></th>\n",
       "      <th>school_state</th>\n",
       "      <th>teacher_prefix</th>\n",
       "      <th>project_grade_category</th>\n",
       "      <th>teacher_number_of_previously_posted_projects</th>\n",
       "      <th>clean_categories</th>\n",
       "      <th>clean_subcategories</th>\n",
       "      <th>essay</th>\n",
       "      <th>price</th>\n",
       "      <th>Positive</th>\n",
       "      <th>Negetive</th>\n",
       "      <th>Nuetral</th>\n",
       "      <th>Compound</th>\n",
       "    </tr>\n",
       "  </thead>\n",
       "  <tbody>\n",
       "    <tr>\n",
       "      <th>0</th>\n",
       "      <td>ca</td>\n",
       "      <td>mrs</td>\n",
       "      <td>grades_prek_2</td>\n",
       "      <td>53</td>\n",
       "      <td>math_science</td>\n",
       "      <td>appliedsciences health_lifescience</td>\n",
       "      <td>i fortunate enough use fairy tale stem kits cl...</td>\n",
       "      <td>725.05</td>\n",
       "      <td>0.205</td>\n",
       "      <td>0.013</td>\n",
       "      <td>0.783</td>\n",
       "      <td>0.9867</td>\n",
       "    </tr>\n",
       "  </tbody>\n",
       "</table>\n",
       "</div>"
      ],
      "text/plain": [
       "  school_state teacher_prefix project_grade_category  \\\n",
       "0           ca            mrs          grades_prek_2   \n",
       "\n",
       "   teacher_number_of_previously_posted_projects clean_categories  \\\n",
       "0                                            53     math_science   \n",
       "\n",
       "                  clean_subcategories  \\\n",
       "0  appliedsciences health_lifescience   \n",
       "\n",
       "                                               essay   price  Positive  \\\n",
       "0  i fortunate enough use fairy tale stem kits cl...  725.05     0.205   \n",
       "\n",
       "   Negetive  Nuetral  Compound  \n",
       "0     0.013    0.783    0.9867  "
      ]
     },
     "execution_count": 6,
     "metadata": {},
     "output_type": "execute_result"
    }
   ],
   "source": [
    "y = data['project_is_approved'].values\n",
    "x = data.drop(['project_is_approved'],axis=1)\n",
    "\n",
    "# train test split\n",
    "from sklearn.model_selection import train_test_split\n",
    "X_train, X_test, y_train, y_test = train_test_split(x, y, test_size=0.30, stratify=y)\n",
    "\n",
    "print(X_train.shape, y_train.shape)\n",
    "print(X_test.shape, y_test.shape)\n",
    "x.head(1)"
   ]
  },
  {
   "cell_type": "code",
   "execution_count": 7,
   "metadata": {},
   "outputs": [],
   "source": [
    "def response_coding(x_train,y_train,feature):   \n",
    "    classes = dict()\n",
    "    unique_labels = x_train.loc[:,feature].unique()\n",
    "    for label in unique_labels:\n",
    "        total_points = x_train.loc[:,feature][x_train[feature] == label].count()\n",
    "        class_0 = x_train.loc[:,feature][((x_train[feature] == label) & (y_train == 0))].count()\n",
    "        class_1 = x_train.loc[:,feature][((x_train[feature] == label) & (y_train == 1))].count()\n",
    "        classes[label] = [class_0/total_points,class_1/total_points]\n",
    "    return classes    "
   ]
  },
  {
   "cell_type": "code",
   "execution_count": null,
   "metadata": {},
   "outputs": [],
   "source": []
  },
  {
   "cell_type": "markdown",
   "metadata": {
    "colab_type": "text",
    "id": "vsALgl5Asc3u"
   },
   "source": [
    "<h2>1.3 Make Data Model Ready: encoding categorical features</h2>\n"
   ]
  },
  {
   "cell_type": "code",
   "execution_count": 8,
   "metadata": {},
   "outputs": [
    {
     "name": "stderr",
     "output_type": "stream",
     "text": [
      "C:\\Users\\gurus\\anaconda3\\lib\\site-packages\\pandas\\core\\frame.py:4906: SettingWithCopyWarning: \n",
      "A value is trying to be set on a copy of a slice from a DataFrame\n",
      "\n",
      "See the caveats in the documentation: https://pandas.pydata.org/pandas-docs/stable/user_guide/indexing.html#returning-a-view-versus-a-copy\n",
      "  return super().drop(\n",
      "C:\\Users\\gurus\\AppData\\Local\\Temp/ipykernel_19052/4290742560.py:14: SettingWithCopyWarning: \n",
      "A value is trying to be set on a copy of a slice from a DataFrame.\n",
      "Try using .loc[row_indexer,col_indexer] = value instead\n",
      "\n",
      "See the caveats in the documentation: https://pandas.pydata.org/pandas-docs/stable/user_guide/indexing.html#returning-a-view-versus-a-copy\n",
      "  X_train[class0] = fea_0\n",
      "C:\\Users\\gurus\\AppData\\Local\\Temp/ipykernel_19052/4290742560.py:15: SettingWithCopyWarning: \n",
      "A value is trying to be set on a copy of a slice from a DataFrame.\n",
      "Try using .loc[row_indexer,col_indexer] = value instead\n",
      "\n",
      "See the caveats in the documentation: https://pandas.pydata.org/pandas-docs/stable/user_guide/indexing.html#returning-a-view-versus-a-copy\n",
      "  X_train[class1] = fea_1\n",
      "C:\\Users\\gurus\\AppData\\Local\\Temp/ipykernel_19052/4290742560.py:26: SettingWithCopyWarning: \n",
      "A value is trying to be set on a copy of a slice from a DataFrame.\n",
      "Try using .loc[row_indexer,col_indexer] = value instead\n",
      "\n",
      "See the caveats in the documentation: https://pandas.pydata.org/pandas-docs/stable/user_guide/indexing.html#returning-a-view-versus-a-copy\n",
      "  X_test[class0] = fea_0\n",
      "C:\\Users\\gurus\\AppData\\Local\\Temp/ipykernel_19052/4290742560.py:27: SettingWithCopyWarning: \n",
      "A value is trying to be set on a copy of a slice from a DataFrame.\n",
      "Try using .loc[row_indexer,col_indexer] = value instead\n",
      "\n",
      "See the caveats in the documentation: https://pandas.pydata.org/pandas-docs/stable/user_guide/indexing.html#returning-a-view-versus-a-copy\n",
      "  X_test[class1] = fea_1\n"
     ]
    }
   ],
   "source": [
    "cat_features = ['school_state','teacher_prefix','project_grade_category','clean_categories','clean_subcategories']\n",
    "for feature in cat_features:\n",
    "    res_map = response_coding(X_train,y_train,feature)\n",
    "    #print(res_map)\n",
    "    lst = X_train.loc[:,feature]\n",
    "    fea_0 = []\n",
    "    fea_1 = []\n",
    "    for cat in lst:\n",
    "        fea_0.append(res_map.get(cat)[0])\n",
    "        fea_1.append(res_map.get(cat)[1])\n",
    "    class1 = feature+'_1'\n",
    "    class0 = feature+'_0'\n",
    "    X_train.drop([feature],axis=1,inplace=True)\n",
    "    X_train[class0] = fea_0\n",
    "    X_train[class1] = fea_1\n",
    "\n",
    "    lst = X_test.loc[:,feature]\n",
    "    fea_0 = []\n",
    "    fea_1 = []\n",
    "    for cat in lst:\n",
    "        fea_0.append(res_map.get(cat,[0.5,0.5])[0])\n",
    "        fea_1.append(res_map.get(cat,[0.5,0.5])[1])\n",
    "    class1 = feature+'_1'\n",
    "    class0 = feature+'_0'\n",
    "    X_test.drop([feature],axis=1,inplace=True)\n",
    "    X_test[class0] = fea_0\n",
    "    X_test[class1] = fea_1\n",
    "    # print(X_train.head())"
   ]
  },
  {
   "cell_type": "code",
   "execution_count": 9,
   "metadata": {},
   "outputs": [
    {
     "data": {
      "text/html": [
       "<div>\n",
       "<style scoped>\n",
       "    .dataframe tbody tr th:only-of-type {\n",
       "        vertical-align: middle;\n",
       "    }\n",
       "\n",
       "    .dataframe tbody tr th {\n",
       "        vertical-align: top;\n",
       "    }\n",
       "\n",
       "    .dataframe thead th {\n",
       "        text-align: right;\n",
       "    }\n",
       "</style>\n",
       "<table border=\"1\" class=\"dataframe\">\n",
       "  <thead>\n",
       "    <tr style=\"text-align: right;\">\n",
       "      <th></th>\n",
       "      <th>teacher_number_of_previously_posted_projects</th>\n",
       "      <th>essay</th>\n",
       "      <th>price</th>\n",
       "      <th>Positive</th>\n",
       "      <th>Negetive</th>\n",
       "      <th>Nuetral</th>\n",
       "      <th>Compound</th>\n",
       "      <th>school_state_0</th>\n",
       "      <th>school_state_1</th>\n",
       "      <th>teacher_prefix_0</th>\n",
       "      <th>teacher_prefix_1</th>\n",
       "      <th>project_grade_category_0</th>\n",
       "      <th>project_grade_category_1</th>\n",
       "      <th>clean_categories_0</th>\n",
       "      <th>clean_categories_1</th>\n",
       "      <th>clean_subcategories_0</th>\n",
       "      <th>clean_subcategories_1</th>\n",
       "    </tr>\n",
       "  </thead>\n",
       "  <tbody>\n",
       "    <tr>\n",
       "      <th>6068</th>\n",
       "      <td>1</td>\n",
       "      <td>my classroom diverse inclusion room full seven...</td>\n",
       "      <td>333.07</td>\n",
       "      <td>0.276</td>\n",
       "      <td>0.009</td>\n",
       "      <td>0.715</td>\n",
       "      <td>0.9901</td>\n",
       "      <td>0.182058</td>\n",
       "      <td>0.817942</td>\n",
       "      <td>0.15784</td>\n",
       "      <td>0.84216</td>\n",
       "      <td>0.152577</td>\n",
       "      <td>0.847423</td>\n",
       "      <td>0.191824</td>\n",
       "      <td>0.808176</td>\n",
       "      <td>0.190751</td>\n",
       "      <td>0.809249</td>\n",
       "    </tr>\n",
       "    <tr>\n",
       "      <th>6602</th>\n",
       "      <td>0</td>\n",
       "      <td>i first year teacher highland park classroom n...</td>\n",
       "      <td>221.84</td>\n",
       "      <td>0.276</td>\n",
       "      <td>0.016</td>\n",
       "      <td>0.708</td>\n",
       "      <td>0.9859</td>\n",
       "      <td>0.170960</td>\n",
       "      <td>0.829040</td>\n",
       "      <td>0.15784</td>\n",
       "      <td>0.84216</td>\n",
       "      <td>0.152577</td>\n",
       "      <td>0.847423</td>\n",
       "      <td>0.148557</td>\n",
       "      <td>0.851443</td>\n",
       "      <td>0.144756</td>\n",
       "      <td>0.855244</td>\n",
       "    </tr>\n",
       "  </tbody>\n",
       "</table>\n",
       "</div>"
      ],
      "text/plain": [
       "      teacher_number_of_previously_posted_projects  \\\n",
       "6068                                             1   \n",
       "6602                                             0   \n",
       "\n",
       "                                                  essay   price  Positive  \\\n",
       "6068  my classroom diverse inclusion room full seven...  333.07     0.276   \n",
       "6602  i first year teacher highland park classroom n...  221.84     0.276   \n",
       "\n",
       "      Negetive  Nuetral  Compound  school_state_0  school_state_1  \\\n",
       "6068     0.009    0.715    0.9901        0.182058        0.817942   \n",
       "6602     0.016    0.708    0.9859        0.170960        0.829040   \n",
       "\n",
       "      teacher_prefix_0  teacher_prefix_1  project_grade_category_0  \\\n",
       "6068           0.15784           0.84216                  0.152577   \n",
       "6602           0.15784           0.84216                  0.152577   \n",
       "\n",
       "      project_grade_category_1  clean_categories_0  clean_categories_1  \\\n",
       "6068                  0.847423            0.191824            0.808176   \n",
       "6602                  0.847423            0.148557            0.851443   \n",
       "\n",
       "      clean_subcategories_0  clean_subcategories_1  \n",
       "6068               0.190751               0.809249  \n",
       "6602               0.144756               0.855244  "
      ]
     },
     "execution_count": 9,
     "metadata": {},
     "output_type": "execute_result"
    }
   ],
   "source": [
    "X_train.head(2)"
   ]
  },
  {
   "cell_type": "code",
   "execution_count": 10,
   "metadata": {},
   "outputs": [
    {
     "data": {
      "text/html": [
       "<div>\n",
       "<style scoped>\n",
       "    .dataframe tbody tr th:only-of-type {\n",
       "        vertical-align: middle;\n",
       "    }\n",
       "\n",
       "    .dataframe tbody tr th {\n",
       "        vertical-align: top;\n",
       "    }\n",
       "\n",
       "    .dataframe thead th {\n",
       "        text-align: right;\n",
       "    }\n",
       "</style>\n",
       "<table border=\"1\" class=\"dataframe\">\n",
       "  <thead>\n",
       "    <tr style=\"text-align: right;\">\n",
       "      <th></th>\n",
       "      <th>teacher_number_of_previously_posted_projects</th>\n",
       "      <th>essay</th>\n",
       "      <th>price</th>\n",
       "      <th>Positive</th>\n",
       "      <th>Negetive</th>\n",
       "      <th>Nuetral</th>\n",
       "      <th>Compound</th>\n",
       "      <th>school_state_0</th>\n",
       "      <th>school_state_1</th>\n",
       "      <th>teacher_prefix_0</th>\n",
       "      <th>teacher_prefix_1</th>\n",
       "      <th>project_grade_category_0</th>\n",
       "      <th>project_grade_category_1</th>\n",
       "      <th>clean_categories_0</th>\n",
       "      <th>clean_categories_1</th>\n",
       "      <th>clean_subcategories_0</th>\n",
       "      <th>clean_subcategories_1</th>\n",
       "    </tr>\n",
       "  </thead>\n",
       "  <tbody>\n",
       "    <tr>\n",
       "      <th>9571</th>\n",
       "      <td>1</td>\n",
       "      <td>please help bring technology math classroom i ...</td>\n",
       "      <td>149.99</td>\n",
       "      <td>0.236</td>\n",
       "      <td>0.016</td>\n",
       "      <td>0.748</td>\n",
       "      <td>0.9792</td>\n",
       "      <td>0.162607</td>\n",
       "      <td>0.837393</td>\n",
       "      <td>0.14792</td>\n",
       "      <td>0.85208</td>\n",
       "      <td>0.165612</td>\n",
       "      <td>0.834388</td>\n",
       "      <td>0.18606</td>\n",
       "      <td>0.81394</td>\n",
       "      <td>0.198588</td>\n",
       "      <td>0.801412</td>\n",
       "    </tr>\n",
       "    <tr>\n",
       "      <th>5431</th>\n",
       "      <td>48</td>\n",
       "      <td>my classroom filled students love learn some l...</td>\n",
       "      <td>740.73</td>\n",
       "      <td>0.177</td>\n",
       "      <td>0.056</td>\n",
       "      <td>0.768</td>\n",
       "      <td>0.9684</td>\n",
       "      <td>0.187500</td>\n",
       "      <td>0.812500</td>\n",
       "      <td>0.14792</td>\n",
       "      <td>0.85208</td>\n",
       "      <td>0.149415</td>\n",
       "      <td>0.850585</td>\n",
       "      <td>0.14304</td>\n",
       "      <td>0.85696</td>\n",
       "      <td>0.167286</td>\n",
       "      <td>0.832714</td>\n",
       "    </tr>\n",
       "  </tbody>\n",
       "</table>\n",
       "</div>"
      ],
      "text/plain": [
       "      teacher_number_of_previously_posted_projects  \\\n",
       "9571                                             1   \n",
       "5431                                            48   \n",
       "\n",
       "                                                  essay   price  Positive  \\\n",
       "9571  please help bring technology math classroom i ...  149.99     0.236   \n",
       "5431  my classroom filled students love learn some l...  740.73     0.177   \n",
       "\n",
       "      Negetive  Nuetral  Compound  school_state_0  school_state_1  \\\n",
       "9571     0.016    0.748    0.9792        0.162607        0.837393   \n",
       "5431     0.056    0.768    0.9684        0.187500        0.812500   \n",
       "\n",
       "      teacher_prefix_0  teacher_prefix_1  project_grade_category_0  \\\n",
       "9571           0.14792           0.85208                  0.165612   \n",
       "5431           0.14792           0.85208                  0.149415   \n",
       "\n",
       "      project_grade_category_1  clean_categories_0  clean_categories_1  \\\n",
       "9571                  0.834388             0.18606             0.81394   \n",
       "5431                  0.850585             0.14304             0.85696   \n",
       "\n",
       "      clean_subcategories_0  clean_subcategories_1  \n",
       "9571               0.198588               0.801412  \n",
       "5431               0.167286               0.832714  "
      ]
     },
     "execution_count": 10,
     "metadata": {},
     "output_type": "execute_result"
    }
   ],
   "source": [
    "X_test.head(2)"
   ]
  },
  {
   "cell_type": "code",
   "execution_count": 11,
   "metadata": {},
   "outputs": [
    {
     "data": {
      "text/plain": [
       "(24500, 10)"
      ]
     },
     "execution_count": 11,
     "metadata": {},
     "output_type": "execute_result"
    }
   ],
   "source": [
    "X_train_resp_code = X_train.loc[:,\"school_state_0\":\"clean_subcategories_1\"]\n",
    "X_train_resp_code = np.array(X_train_resp_code)\n",
    "X_train_resp_code.shape"
   ]
  },
  {
   "cell_type": "code",
   "execution_count": 12,
   "metadata": {},
   "outputs": [
    {
     "data": {
      "text/plain": [
       "(10500, 10)"
      ]
     },
     "execution_count": 12,
     "metadata": {},
     "output_type": "execute_result"
    }
   ],
   "source": [
    "X_test_resp_code = X_test.loc[:,\"school_state_0\":\"clean_subcategories_1\"]\n",
    "X_test_resp_code = np.array(X_test_resp_code)\n",
    "X_test_resp_code.shape"
   ]
  },
  {
   "cell_type": "markdown",
   "metadata": {
    "colab_type": "text",
    "id": "S3Vxxv2Hsc31"
   },
   "source": [
    "<h2>1.4 Make Data Model Ready: encoding eassay, and project_title</h2>"
   ]
  },
  {
   "cell_type": "code",
   "execution_count": 13,
   "metadata": {
    "colab": {},
    "colab_type": "code",
    "id": "RAtihVPqsc33"
   },
   "outputs": [
    {
     "name": "stdout",
     "output_type": "stream",
     "text": [
      "After vectorizations\n",
      "(24500, 1916) (24500,)\n",
      "(10500, 1916) (10500,)\n"
     ]
    }
   ],
   "source": [
    "# Apply TF-IDF vectorization on 'Preprocessed_Essay' \n",
    "\n",
    "# Encoding of Essay using TF-IDF\n",
    "from sklearn.feature_extraction.text import TfidfVectorizer\n",
    "vectorizer = TfidfVectorizer(min_df=200)\n",
    "vectorizer.fit(X_train['essay'].values) # fit has to happen only on train data\n",
    "\n",
    "# we use the fitted CountVectorizer to convert the text to vector\n",
    "X_train_tfidf = vectorizer.transform(X_train['essay'].values)\n",
    "\n",
    "X_test_tfidf = vectorizer.transform(X_test['essay'].values)\n",
    "\n",
    "print(\"After vectorizations\")\n",
    "print(X_train_tfidf.shape, y_train.shape)\n",
    "print(X_test_tfidf.shape, y_test.shape)"
   ]
  },
  {
   "cell_type": "code",
   "execution_count": 14,
   "metadata": {},
   "outputs": [],
   "source": [
    "#please use below code to load glove vectors \n",
    "import pickle\n",
    "from tqdm import tqdm\n",
    "import os\n",
    "with open('glove_vectors', 'rb') as f:\n",
    "    model = pickle.load(f)\n",
    "    glove_words =  set(model.keys())"
   ]
  },
  {
   "cell_type": "code",
   "execution_count": 15,
   "metadata": {},
   "outputs": [
    {
     "name": "stdout",
     "output_type": "stream",
     "text": [
      "(24500, 300)\n",
      "(10500, 300)\n"
     ]
    }
   ],
   "source": [
    "# Apply TF-IDF W2V vectorization on 'Preprocessed_Essay' \n",
    "tfidf_model = TfidfVectorizer(min_df=100)\n",
    "tfidf_model.fit(X_train['essay'].values)\n",
    "# we are converting a dictionary with word as a key, and the idf as a value\n",
    "dictionary = dict(zip(tfidf_model.get_feature_names(), list(tfidf_model.idf_)))\n",
    "tfidf_words = set(tfidf_model.get_feature_names())\n",
    "\n",
    "# Encoding of Essay using TF-IDF W2V\n",
    "X_train_tfidf_w2v = []; # the avg-w2v for each sentence/review is stored in this list\n",
    "for sentence in X_train['essay'].values: # for each review/sentence\n",
    "    vector = np.zeros(300) # as word vectors are of zero length\n",
    "    tf_idf_weight =0; # num of words with a valid vector in the sentence/review\n",
    "    for word in sentence.split(): # for each word in a review/sentence\n",
    "        if (word in glove_words) and (word in tfidf_words):\n",
    "            vec = model[word] # getting the vector for each word\n",
    "            # here we are multiplying idf value(dictionary[word]) and the tf value((sentence.count(word)/len(sentence.split())))\n",
    "            tf_idf = dictionary[word]*(sentence.count(word)/len(sentence.split())) # getting the tfidf value for each word\n",
    "            vector += (vec * tf_idf) # calculating tfidf weighted w2v\n",
    "            tf_idf_weight += tf_idf\n",
    "    if tf_idf_weight != 0:\n",
    "        vector /= tf_idf_weight\n",
    "    X_train_tfidf_w2v.append(vector)\n",
    "\n",
    "X_train_tfidf_w2v = np.array(X_train_tfidf_w2v)\n",
    "print(X_train_tfidf_w2v.shape)\n",
    "\n",
    "X_test_tfidf_w2v = []; # the avg-w2v for each sentence/review is stored in this list\n",
    "for sentence in X_test['essay']: # for each review/sentence\n",
    "    vector = np.zeros(300) # as word vectors are of zero length\n",
    "    tf_idf_weight =0; # num of words with a valid vector in the sentence/review\n",
    "    for word in sentence.split(): # for each word in a review/sentence\n",
    "        if (word in glove_words) and (word in tfidf_words):\n",
    "            vec = model[word] # getting the vector for each word\n",
    "            # here we are multiplying idf value(dictionary[word]) and the tf value((sentence.count(word)/len(sentence.split())))\n",
    "            tf_idf = dictionary[word]*(sentence.count(word)/len(sentence.split())) # getting the tfidf value for each word\n",
    "            vector += (vec * tf_idf) # calculating tfidf weighted w2v\n",
    "            tf_idf_weight += tf_idf\n",
    "    if tf_idf_weight != 0:\n",
    "        vector /= tf_idf_weight\n",
    "    X_test_tfidf_w2v.append(vector)\n",
    "\n",
    "X_test_tfidf_w2v = np.array(X_test_tfidf_w2v)\n",
    "print(X_test_tfidf_w2v.shape)"
   ]
  },
  {
   "cell_type": "code",
   "execution_count": 16,
   "metadata": {},
   "outputs": [
    {
     "name": "stdout",
     "output_type": "stream",
     "text": [
      "(24500, 6)\n",
      "(10500, 6)\n"
     ]
    }
   ],
   "source": [
    "from sklearn.preprocessing import Normalizer\n",
    "scaler = Normalizer()\n",
    "\n",
    "numeric = ['price','teacher_number_of_previously_posted_projects','Positive','Nuetral','Negetive','Compound']\n",
    "\n",
    "scaler.fit(X_train[numeric])\n",
    "\n",
    "X_train_numeric = scaler.transform(X_train[numeric])\n",
    "X_test_numeric = scaler.transform(X_test[numeric])\n",
    "print(X_train_numeric.shape)\n",
    "print(X_test_numeric.shape)"
   ]
  },
  {
   "cell_type": "code",
   "execution_count": 17,
   "metadata": {},
   "outputs": [
    {
     "name": "stdout",
     "output_type": "stream",
     "text": [
      "Shape final repesentation in set 1:\n",
      "(24500, 1932) (24500,)\n",
      "(10500, 1932) (10500,)\n"
     ]
    }
   ],
   "source": [
    "from scipy.sparse import hstack\n",
    "X_train1 = hstack((X_train_tfidf,X_train_resp_code,X_train_numeric)).tocsr()\n",
    "\n",
    "X_test1 = hstack((X_test_tfidf,X_test_resp_code,X_test_numeric)).tocsr()\n",
    "\n",
    "print(\"Shape final repesentation in set 1:\")\n",
    "print(X_train1.shape,y_train.shape)\n",
    "print(X_test1.shape,y_test.shape)"
   ]
  },
  {
   "cell_type": "code",
   "execution_count": 18,
   "metadata": {},
   "outputs": [
    {
     "name": "stdout",
     "output_type": "stream",
     "text": [
      "Shape final repesentation in set 2:\n",
      "(24500, 316) (24500,)\n",
      "(10500, 316) (10500,)\n"
     ]
    }
   ],
   "source": [
    "# print(X_train_tfidf_w2v.shape)\n",
    "# print(X_train_resp_code.shape)\n",
    "# print(X_train_numeric.shape)\n",
    "X_train2 = np.hstack((X_train_tfidf_w2v,X_train_resp_code,X_train_numeric))\n",
    "X_test2 = np.hstack((X_test_tfidf_w2v,X_test_resp_code,X_test_numeric))\n",
    "\n",
    "print(\"Shape final repesentation in set 2:\")\n",
    "print(X_train2.shape,y_train.shape)\n",
    "print(X_test2.shape,y_test.shape)"
   ]
  },
  {
   "cell_type": "code",
   "execution_count": 19,
   "metadata": {},
   "outputs": [],
   "source": [
    "X1 = ['TF-IDF']\n",
    "X2 = ['TFIDF-W2V']"
   ]
  },
  {
   "cell_type": "markdown",
   "metadata": {
    "colab_type": "text",
    "id": "I5wDFj17sc3-"
   },
   "source": [
    "<h2>1.6 Appling Models on different kind of featurization as mentioned in the instructions</h2>"
   ]
  },
  {
   "cell_type": "markdown",
   "metadata": {
    "colab_type": "text",
    "id": "O5tWox1jsc3_"
   },
   "source": [
    "<br>Apply GBDT on different kind of featurization as mentioned in the instructions\n",
    "<br> For Every model that you work on make sure you do the step 2 and step 3 of instrucations"
   ]
  },
  {
   "cell_type": "code",
   "execution_count": 20,
   "metadata": {
    "colab": {},
    "colab_type": "code",
    "id": "ARWulYUwsc4B"
   },
   "outputs": [
    {
     "data": {
      "text/plain": [
       "GridSearchCV(cv=5, estimator=GradientBoostingClassifier(), n_jobs=-1,\n",
       "             param_grid={'max_depth': [1, 2, 3, 4],\n",
       "                         'min_samples_split': [25, 50, 75, 100]},\n",
       "             scoring='roc_auc')"
      ]
     },
     "execution_count": 20,
     "metadata": {},
     "output_type": "execute_result"
    }
   ],
   "source": [
    "from sklearn.ensemble import GradientBoostingClassifier\n",
    "from sklearn.model_selection import GridSearchCV\n",
    "\n",
    "gb = GradientBoostingClassifier()\n",
    "\n",
    "param_grid = {'max_depth':[1, 2, 3, 4],'min_samples_split':[25, 50, 75, 100]}\n",
    "cv1 = GridSearchCV(estimator=gb,param_grid=param_grid,scoring='roc_auc',cv = 5,n_jobs=-1)\n",
    "cv1.fit(X_train1,y_train)"
   ]
  },
  {
   "cell_type": "code",
   "execution_count": 21,
   "metadata": {},
   "outputs": [
    {
     "data": {
      "text/plain": [
       "GridSearchCV(cv=5, estimator=GradientBoostingClassifier(), n_jobs=-1,\n",
       "             param_grid={'max_depth': [1, 3, 7, 10],\n",
       "                         'min_samples_split': [10, 25, 75, 100]},\n",
       "             scoring='roc_auc')"
      ]
     },
     "execution_count": 21,
     "metadata": {},
     "output_type": "execute_result"
    }
   ],
   "source": [
    "from sklearn.ensemble import GradientBoostingClassifier\n",
    "from sklearn.model_selection import GridSearchCV\n",
    "\n",
    "gb = GradientBoostingClassifier()\n",
    "\n",
    "param_grid = {'max_depth':[1, 3, 7 ,10],'min_samples_split':[10, 25, 75, 100]}\n",
    "cv2 = GridSearchCV(estimator=gb,param_grid=param_grid,scoring='roc_auc',cv = 5,n_jobs=-1)\n",
    "cv2.fit(X_train2,y_train)"
   ]
  },
  {
   "cell_type": "code",
   "execution_count": 22,
   "metadata": {},
   "outputs": [],
   "source": [
    "import seaborn as sns\n",
    "import matplotlib.pyplot as plt"
   ]
  },
  {
   "cell_type": "code",
   "execution_count": 23,
   "metadata": {},
   "outputs": [
    {
     "data": {
      "image/png": "[encoded data removed]",
      "text/plain": [
       "<Figure size 432x288 with 2 Axes>"
      ]
     },
     "metadata": {
      "needs_background": "light"
     },
     "output_type": "display_data"
    }
   ],
   "source": [
    "res = np.array(cv1.cv_results_['mean_test_score']).reshape(4,4)\n",
    "grid = []\n",
    "for i,depth in enumerate([1, 2, 3, 4]):\n",
    "    for j,samples_split in enumerate([25, 50, 75, 100]):\n",
    "        grid.append([depth,samples_split,res[i][j]])\n",
    "\n",
    "df = pd.DataFrame(grid,columns=['max_depth','min_samples_split','mean_test_score'])\n",
    "grid = df.pivot('max_depth','min_samples_split','mean_test_score')\n",
    "ax = sns.heatmap(grid,annot=True,fmt=\"0.4f\",linewidths=0.5)\n",
    "\n",
    "plt.xlabel(\"max_depth\")\n",
    "plt.ylabel(\"min_samples_split\")\n",
    "plt.title(\"AUC score\")\n",
    "plt.show()\n"
   ]
  },
  {
   "cell_type": "code",
   "execution_count": 24,
   "metadata": {},
   "outputs": [
    {
     "data": {
      "image/png": "[encoded data removed]",
      "text/plain": [
       "<Figure size 432x288 with 2 Axes>"
      ]
     },
     "metadata": {
      "needs_background": "light"
     },
     "output_type": "display_data"
    }
   ],
   "source": [
    "res = np.array(cv2.cv_results_['mean_test_score']).reshape(4,4)\n",
    "grid = []\n",
    "for i,depth in enumerate([1, 3, 7 ,10]):\n",
    "    for j,samples_split in enumerate([10, 25, 75, 100]):\n",
    "        grid.append([depth,samples_split,res[i][j]])\n",
    "\n",
    "df = pd.DataFrame(grid,columns=['max_depth','min_samples_split','mean_test_score'])\n",
    "grid = df.pivot('max_depth','min_samples_split','mean_test_score')\n",
    "ax = sns.heatmap(grid,annot=True,fmt=\"0.4f\",linewidths=0.5)\n",
    "\n",
    "plt.xlabel(\"max_depth\")\n",
    "plt.ylabel(\"min_samples_split\")\n",
    "plt.title(\"AUC score\")\n",
    "plt.show()"
   ]
  },
  {
   "cell_type": "code",
   "execution_count": 25,
   "metadata": {},
   "outputs": [],
   "source": [
    "from sklearn.metrics import confusion_matrix\n",
    "from sklearn.metrics import ConfusionMatrixDisplay\n",
    "from sklearn import metrics\n",
    "from sklearn.metrics import roc_curve, auc"
   ]
  },
  {
   "cell_type": "code",
   "execution_count": 26,
   "metadata": {},
   "outputs": [],
   "source": [
    "X1.append(cv1.best_params_['max_depth'])\n",
    "X1.append(cv1.best_params_['min_samples_split'])"
   ]
  },
  {
   "cell_type": "code",
   "execution_count": 27,
   "metadata": {},
   "outputs": [
    {
     "data": {
      "image/png": "[encoded data removed]",
      "text/plain": [
       "<Figure size 432x288 with 1 Axes>"
      ]
     },
     "metadata": {
      "needs_background": "light"
     },
     "output_type": "display_data"
    },
    {
     "name": "stdout",
     "output_type": "stream",
     "text": [
      "0.8522314009314922\n"
     ]
    },
    {
     "data": {
      "image/png": "[encoded data removed]",
      "text/plain": [
       "<Figure size 432x288 with 1 Axes>"
      ]
     },
     "metadata": {
      "needs_background": "light"
     },
     "output_type": "display_data"
    },
    {
     "name": "stdout",
     "output_type": "stream",
     "text": [
      "0.7035026936464971\n"
     ]
    }
   ],
   "source": [
    "gb = GradientBoostingClassifier(max_depth=cv1.best_params_['max_depth'],min_samples_split=cv1.best_params_['min_samples_split'])\n",
    "gb.fit(X_train1,y_train)\n",
    "pro_score_train = gb.predict_proba(X_train1)[:,1]\n",
    "pro_score_test = gb.predict_proba(X_test1)[:,1]\n",
    "\n",
    "# Plot the ROC-AUC curves using the probability predictions made on train and test data.\n",
    "k_train = roc_curve(y_train,pro_score_train)\n",
    "plt.plot(k_train[0], k_train[1])\n",
    "plt.xlabel(\"FPR\")\n",
    "plt.ylabel(\"TPR\")\n",
    "plt.title(\"FPR Vs TPR of Train Data\")\n",
    "plt.grid()\n",
    "plt.show()\n",
    "print(auc(k_train[0],k_train[1]))\n",
    "\n",
    "\n",
    "k_test = roc_curve(y_test,pro_score_test)\n",
    "plt.plot(k_train[0], k_train[1])\n",
    "plt.xlabel(\"FPR\")\n",
    "plt.ylabel(\"TPR\")\n",
    "plt.title(\"FPR Vs TPR of Test Data\")\n",
    "plt.grid()\n",
    "plt.show()\n",
    "print(auc(k_test[0],k_test[1]))"
   ]
  },
  {
   "cell_type": "code",
   "execution_count": 28,
   "metadata": {},
   "outputs": [],
   "source": [
    "X1.append(auc(k_train[0],k_train[1]))\n",
    "X1.append(auc(k_test[0],k_test[1]))"
   ]
  },
  {
   "cell_type": "code",
   "execution_count": 29,
   "metadata": {},
   "outputs": [
    {
     "name": "stdout",
     "output_type": "stream",
     "text": [
      "====================================================================================================\n",
      "the maximum value of tpr*(1-fpr) 0.5849084793491865 for threshold 0.821 \n",
      "\n"
     ]
    },
    {
     "data": {
      "text/plain": [
       "<sklearn.metrics._plot.confusion_matrix.ConfusionMatrixDisplay at 0x258a670ba30>"
      ]
     },
     "execution_count": 29,
     "metadata": {},
     "output_type": "execute_result"
    },
    {
     "data": {
      "image/png": "[encoded data removed]",
      "text/plain": [
       "<Figure size 432x288 with 2 Axes>"
      ]
     },
     "metadata": {
      "needs_background": "light"
     },
     "output_type": "display_data"
    },
    {
     "data": {
      "image/png": "[encoded data removed]",
      "text/plain": [
       "<Figure size 432x288 with 2 Axes>"
      ]
     },
     "metadata": {
      "needs_background": "light"
     },
     "output_type": "display_data"
    }
   ],
   "source": [
    "# Pick the best threshold among the probability estimates, such that it has to yield maximum value for TPR*(1-FPR)\n",
    "best_thr_index = np.argmax((k_train[1]*(1-k_train[0])))\n",
    "threshold = k_train[2][best_thr_index]\n",
    "print(\"=\"*100)\n",
    "# (tpr*(1-fpr)) will be maximum if your fpr is very low and tpr is very high\n",
    "print(\"the maximum value of tpr*(1-fpr)\", max((k_train[1]*(1-k_train[0]))), \"for threshold\", np.round(threshold,3),\"\\n\")\n",
    "\n",
    "# Plot the confusion matrices(each for train and test data) afer encoding the predicted class labels, on the basis of the best threshod probability estimate.\n",
    "\n",
    "y_pred = []\n",
    "FP_indices = [] #Indices of train datapoints which are False Positive\n",
    "for i,prob in enumerate(pro_score_train):\n",
    "    if prob > threshold:\n",
    "        y_pred.append(1)\n",
    "        if y_train[i] == 0:\n",
    "            FP_indices.append(i)\n",
    "    else:\n",
    "        y_pred.append(0)\n",
    "\n",
    "ConfusionMatrixDisplay(confusion_matrix(y_train, y_pred)).plot()\n",
    "\n",
    "y_pred = []\n",
    "for prob in pro_score_test:\n",
    "    if prob > threshold:\n",
    "        y_pred.append(1)\n",
    "    else:\n",
    "        y_pred.append(0)\n",
    "\n",
    "\n",
    "ConfusionMatrixDisplay(confusion_matrix(y_test, y_pred)).plot()"
   ]
  },
  {
   "cell_type": "code",
   "execution_count": 30,
   "metadata": {},
   "outputs": [],
   "source": [
    "X2.append(cv2.best_params_['max_depth'])\n",
    "X2.append(cv2.best_params_['min_samples_split'])"
   ]
  },
  {
   "cell_type": "code",
   "execution_count": 31,
   "metadata": {},
   "outputs": [
    {
     "data": {
      "image/png": "[encoded data removed]",
      "text/plain": [
       "<Figure size 432x288 with 1 Axes>"
      ]
     },
     "metadata": {
      "needs_background": "light"
     },
     "output_type": "display_data"
    },
    {
     "name": "stdout",
     "output_type": "stream",
     "text": [
      "0.7972376715771763\n"
     ]
    },
    {
     "data": {
      "image/png": "[encoded data removed]",
      "text/plain": [
       "<Figure size 432x288 with 1 Axes>"
      ]
     },
     "metadata": {
      "needs_background": "light"
     },
     "output_type": "display_data"
    },
    {
     "name": "stdout",
     "output_type": "stream",
     "text": [
      "0.6898578921394768\n"
     ]
    }
   ],
   "source": [
    "gb = GradientBoostingClassifier(max_depth=cv2.best_params_['max_depth'],min_samples_split=cv2.best_params_['min_samples_split'])\n",
    "gb.fit(X_train2,y_train)\n",
    "pro_score_train = gb.predict_proba(X_train2)[:,1]\n",
    "pro_score_test = gb.predict_proba(X_test2)[:,1]\n",
    "\n",
    "# Plot the ROC-AUC curves using the probability predictions made on train and test data.\n",
    "k_train = roc_curve(y_train,pro_score_train)\n",
    "plt.plot(k_train[0], k_train[1])\n",
    "plt.xlabel(\"FPR\")\n",
    "plt.ylabel(\"TPR\")\n",
    "plt.title(\"FPR Vs TPR of Train Data\")\n",
    "plt.grid()\n",
    "plt.show()\n",
    "print(auc(k_train[0],k_train[1]))\n",
    "\n",
    "\n",
    "k_test = roc_curve(y_test,pro_score_test)\n",
    "plt.plot(k_train[0], k_train[1])\n",
    "plt.xlabel(\"FPR\")\n",
    "plt.ylabel(\"TPR\")\n",
    "plt.title(\"FPR Vs TPR of Test Data\")\n",
    "plt.grid()\n",
    "plt.show()\n",
    "print(auc(k_test[0],k_test[1]))"
   ]
  },
  {
   "cell_type": "code",
   "execution_count": 32,
   "metadata": {},
   "outputs": [],
   "source": [
    "X2.append(auc(k_train[0],k_train[1]))\n",
    "X2.append(auc(k_test[0],k_test[1]))"
   ]
  },
  {
   "cell_type": "code",
   "execution_count": 33,
   "metadata": {},
   "outputs": [
    {
     "name": "stdout",
     "output_type": "stream",
     "text": [
      "====================================================================================================\n",
      "the maximum value of tpr*(1-fpr) 0.5196531525062065 for threshold 0.831 \n",
      "\n"
     ]
    },
    {
     "data": {
      "text/plain": [
       "<sklearn.metrics._plot.confusion_matrix.ConfusionMatrixDisplay at 0x258a6993730>"
      ]
     },
     "execution_count": 33,
     "metadata": {},
     "output_type": "execute_result"
    },
    {
     "data": {
      "image/png": "[encoded data removed]",
      "text/plain": [
       "<Figure size 432x288 with 2 Axes>"
      ]
     },
     "metadata": {
      "needs_background": "light"
     },
     "output_type": "display_data"
    },
    {
     "data": {
      "image/png": "[encoded data removed]",
      "text/plain": [
       "<Figure size 432x288 with 2 Axes>"
      ]
     },
     "metadata": {
      "needs_background": "light"
     },
     "output_type": "display_data"
    }
   ],
   "source": [
    "# Pick the best threshold among the probability estimates, such that it has to yield maximum value for TPR*(1-FPR)\n",
    "best_thr_index = np.argmax((k_train[1]*(1-k_train[0])))\n",
    "threshold = k_train[2][best_thr_index]\n",
    "print(\"=\"*100)\n",
    "# (tpr*(1-fpr)) will be maximum if your fpr is very low and tpr is very high\n",
    "print(\"the maximum value of tpr*(1-fpr)\", max((k_train[1]*(1-k_train[0]))), \"for threshold\", np.round(threshold,3),\"\\n\")\n",
    "\n",
    "# Plot the confusion matrices(each for train and test data) afer encoding the predicted class labels, on the basis of the best threshod probability estimate.\n",
    "\n",
    "y_pred = []\n",
    "FP_indices = [] #Indices of train datapoints which are False Positive\n",
    "for i,prob in enumerate(pro_score_train):\n",
    "    if prob > threshold:\n",
    "        y_pred.append(1)\n",
    "        if y_train[i] == 0:\n",
    "            FP_indices.append(i)\n",
    "    else:\n",
    "        y_pred.append(0)\n",
    "\n",
    "ConfusionMatrixDisplay(confusion_matrix(y_train, y_pred)).plot()\n",
    "\n",
    "y_pred = []\n",
    "for prob in pro_score_test:\n",
    "    if prob > threshold:\n",
    "        y_pred.append(1)\n",
    "    else:\n",
    "        y_pred.append(0)\n",
    "\n",
    "\n",
    "ConfusionMatrixDisplay(confusion_matrix(y_test, y_pred)).plot()"
   ]
  },
  {
   "cell_type": "markdown",
   "metadata": {
    "colab_type": "text",
    "id": "YhFN-lDWsc4G"
   },
   "source": [
    "<h1>3. Summary</h1>\n",
    "\n",
    "<br> as mentioned in the step 4 of instructions"
   ]
  },
  {
   "cell_type": "code",
   "execution_count": 34,
   "metadata": {},
   "outputs": [],
   "source": [
    "from prettytable import PrettyTable\n",
    "x = PrettyTable()\n",
    "\n",
    "x.field_names = ['Model',\"max_depth\",\"min_samples_split\",'Train ROC-AUC','Test ROC-AUC']\n",
    "x.add_row(X1)\n",
    "x.add_row(X2)"
   ]
  },
  {
   "cell_type": "code",
   "execution_count": 35,
   "metadata": {},
   "outputs": [
    {
     "name": "stdout",
     "output_type": "stream",
     "text": [
      "+-----------+-----------+-------------------+--------------------+--------------------+\n",
      "|   Model   | max_depth | min_samples_split |   Train ROC-AUC    |    Test ROC-AUC    |\n",
      "+-----------+-----------+-------------------+--------------------+--------------------+\n",
      "|   TF-IDF  |     4     |         25        | 0.8522314009314922 | 0.7035026936464971 |\n",
      "| TFIDF-W2V |     3     |         25        | 0.7972376715771763 | 0.6898578921394768 |\n",
      "+-----------+-----------+-------------------+--------------------+--------------------+\n"
     ]
    }
   ],
   "source": [
    "print(x)"
   ]
  },
  {
   "cell_type": "markdown",
   "metadata": {},
   "source": [
    "* As we can see TF - IDF model and TFIDF - W2V model both giving almost giving same test score\n",
    "* But In TFIDF - W2V ,We are just using the 316 dimesional data and max_depth of tree is also 3 (Which is less compared to TF-IDF model)\n",
    "* We can clearly say TFIDF-W2V is more efficient than TF-IDF Model"
   ]
  },
  {
   "cell_type": "code",
   "execution_count": null,
   "metadata": {},
   "outputs": [],
   "source": []
  }
 ],
 "metadata": {
  "colab": {
   "collapsed_sections": [],
   "name": "11_Assignment_GBDT_Instructions.ipynb",
   "provenance": [],
   "version": "0.3.2"
  },
  "kernelspec": {
   "display_name": "Python 3 (ipykernel)",
   "language": "python",
   "name": "python3"
  },
  "language_info": {
   "codemirror_mode": {
    "name": "ipython",
    "version": 3
   },
   "file_extension": ".py",
   "mimetype": "text/x-python",
   "name": "python",
   "nbconvert_exporter": "python",
   "pygments_lexer": "ipython3",
   "version": "3.9.7"
  },
  "vscode": {
   "interpreter": {
    "hash": "156a3ee15799716d58d55a87e405c1165f4d4c7e5471a2b0ac309addf8a51cbe"
   }
  }
 },
 "nbformat": 4,
 "nbformat_minor": 1
}
