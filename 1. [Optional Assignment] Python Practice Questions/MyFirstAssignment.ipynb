{
  "nbformat": 4,
  "nbformat_minor": 0,
  "metadata": {
    "colab": {
      "name": "MyFirstAssignment.ipynb",
      "provenance": [],
      "collapsed_sections": []
    },
    "kernelspec": {
      "name": "python3",
      "display_name": "Python 3"
    },
    "language_info": {
      "name": "python"
    }
  },
  "cells": [
    {
      "cell_type": "markdown",
      "source": [
        "##1) Function that inputs a number and prints multiplication table of that number##"
      ],
      "metadata": {
        "id": "lMlTSoN4PDuk"
      }
    },
    {
      "cell_type": "code",
      "execution_count": null,
      "metadata": {
        "id": "SbjQJsCG4OWo"
      },
      "outputs": [],
      "source": [
        "def Multiplication_Table(N):\n",
        "\ti=1\n",
        "\tfor k in range(N,N*10+1,N):\n",
        "\t\tprint(\"{} * {} = {}\".format(N,i,k))\n",
        "\t\ti+=1\n",
        "\n",
        "\n",
        "Multiplication_Table(10)"
      ]
    },
    {
      "cell_type": "markdown",
      "source": [
        "##2) Program to print TwinPrimes < 1000 ## "
      ],
      "metadata": {
        "id": "82fY1BQlCbvx"
      }
    },
    {
      "cell_type": "code",
      "source": [
        "def TwinPrime():\n",
        "\t\tfor k in range(1,999,2):\n",
        "\t\t\tprint(\"({},{})\".format(k,k+2))\n",
        "\n",
        "\n",
        "TwinPrime()"
      ],
      "metadata": {
        "id": "IbU5pf6GCvPl"
      },
      "execution_count": null,
      "outputs": []
    },
    {
      "cell_type": "markdown",
      "source": [
        "##3) Function to find the factors of number##"
      ],
      "metadata": {
        "id": "5sfgG-GpTHRH"
      }
    },
    {
      "cell_type": "code",
      "source": [
        "def FactorsOfNumber(N):\n",
        "    Num = N\n",
        "    if Num > 1:\n",
        "        for k in range(2,N+1):\n",
        "         i=k\n",
        "         while Num%i == 0:\n",
        "             print(i)\n",
        "             Num/=i\n",
        "    else :\n",
        "        print(N)         \n",
        "\n",
        "FactorsOfNumber(24)\n",
        "\n",
        "\n",
        "\n",
        "\n",
        "\n",
        "\n",
        "\n"
      ],
      "metadata": {
        "id": "GRd8E5P-TGTv"
      },
      "execution_count": null,
      "outputs": []
    },
    {
      "cell_type": "markdown",
      "source": [
        "##4) Progmam to impliment Permutation and Combination formulae "
      ],
      "metadata": {
        "id": "9ud4S6uUEoC8"
      }
    },
    {
      "cell_type": "code",
      "source": [
        "def factorial(N):\n",
        "\tresult = 1\n",
        "\tif N == 0:\n",
        "\t\treturn result\n",
        "\twhile(N > 1):\n",
        "\t\tresult*=N\n",
        "\t\tN-=1\n",
        "\treturn result\t\n",
        "\n",
        "def Permutation_Combination(N,R):\n",
        "\n",
        "\tif type(N) == float or type(R) == float :\n",
        "\t\tprint(\"Please enter valid input...\")\n",
        "\t\treturn \n",
        "\n",
        "\tpermutation = factorial(N)/(factorial(N-R))\n",
        "\n",
        "\tcombination = permutation/factorial(R)\n",
        "\n",
        "\tprint(\"Number of permutation of N = {} and R = {} are {}\".format(N,R,int(permutation)))\n",
        "\tprint(\"Number of combination of N = {} and R = {} are {}\".format(N,R,int(combination)))\n",
        "\n",
        "Permutation_Combination(5,3)"
      ],
      "metadata": {
        "id": "yQkVIsqjFAE5"
      },
      "execution_count": null,
      "outputs": []
    },
    {
      "cell_type": "markdown",
      "source": [
        "## 5) Fuction that converts the Decimal number to Binary number"
      ],
      "metadata": {
        "id": "eNplKJkJ4qMR"
      }
    },
    {
      "cell_type": "code",
      "source": [
        "def DecimalToBinnary(N):\n",
        "\tcount = 0\n",
        "\tbinary = []\n",
        "\n",
        "\tif N < 0 :\n",
        "\t\tprint(\"-\",end=\"\")\n",
        "\t\tN =N * -1 \n",
        "\n",
        "\tnumber = int(N)\n",
        "\tfraction = N - number\t\n",
        "\twhile number >= 1:\n",
        "\t\tbinary.append(number%2)\n",
        "\t\tnumber = int(number/2)\n",
        "\t\n",
        "\tfor k in range(len(binary)-1,-1,-1):\n",
        "\t\tprint(binary[k],end=\"\")\n",
        "\n",
        "\tprint(\".\",end=\"\")\t\n",
        "\n",
        "\twhile fraction != 0 and count != 7:\n",
        "\t\tk = fraction * 2\n",
        "\t\tprint(int(k),end = \"\")\n",
        "\t\tfraction = k - int(k)\n",
        "\t\tcount+=1\n",
        "\n",
        "        \n",
        "DecimalToBinnary(11.625)                "
      ],
      "metadata": {
        "id": "dFOBxuSk5HuN"
      },
      "execution_count": null,
      "outputs": []
    },
    {
      "cell_type": "markdown",
      "source": [
        "##6) Armstrong Number"
      ],
      "metadata": {
        "id": "71PDdLHXQ7Qw"
      }
    },
    {
      "cell_type": "code",
      "source": [
        "def Cubesum(N):\n",
        "\tresult = 0\n",
        "\twhile(N > 0):\n",
        "\t\tresult+=(N%10)**3\n",
        "\t\tN = int(N/10)\n",
        "\treturn result\t\n",
        "\n",
        "def Powersum(N,k):\n",
        "\tresult = 0\n",
        "\twhile N > 0:\n",
        "\t\tresult += (N%10)**k\n",
        "\t\tN = int(N/10)\n",
        "\treturn result\t\n",
        "\n",
        "def IsArmstrong(N):\n",
        "\n",
        "\tnum = str(N)\n",
        "\n",
        "\tif len(num) == 3:\n",
        "\t\tresult = Cubesum(N)\n",
        "\telse :\n",
        "\t\tresult = Powersum(N,len(num))\n",
        "\n",
        "\tif N == result:\n",
        "\t\tprint(\"True\")\n",
        "\t\tprint(N)\n",
        "\telse:\n",
        "\t\tprint(\"False\")\t\n",
        "\t\t\n",
        "\n",
        "\t\n",
        "IsArmstrong(407)"
      ],
      "metadata": {
        "id": "GCZQD43SSk_8"
      },
      "execution_count": null,
      "outputs": []
    },
    {
      "cell_type": "markdown",
      "source": [
        "##7) Function that inputs number and return product of digits of that number##"
      ],
      "metadata": {
        "id": "s-gj4yTJ11-b"
      }
    },
    {
      "cell_type": "code",
      "source": [
        "def ProductOfDigits(N):\n",
        "\tresult = 1\n",
        "\twhile(N > 0):\n",
        "\t\tresult *= int (N % 10)\n",
        "\t\tN =int (N / 10)\n",
        "\treturn result\n",
        "\n",
        "print (ProductOfDigits(1234))"
      ],
      "metadata": {
        "id": "09ER5NZ72P-a"
      },
      "execution_count": null,
      "outputs": []
    },
    {
      "cell_type": "markdown",
      "source": [
        "## 8) Write functions MDR() and MPersistence() that inputs the number and returns it's multiplicative digital root and multiplictive persistance respectively.  "
      ],
      "metadata": {
        "id": "2eTbakm4hkxH"
      }
    },
    {
      "cell_type": "code",
      "source": [
        "def ProductOfDigits(N):\n",
        "\tresult = 1\n",
        "\twhile(N > 0):\n",
        "\t\tresult *= int (N % 10)\n",
        "\t\tN =int (N / 10)\n",
        "\treturn result\n",
        "\n",
        "def MDR(N):\n",
        "    k=N\n",
        "    while True:\n",
        "        k = ProductOfDigits(k)\n",
        "        if k <= 9 :\n",
        "            return k\n",
        "\n",
        "def MPersistance(N):\n",
        "    k=N\n",
        "    count=0\n",
        "    while True:\n",
        "        count+=1\n",
        "        k = ProductOfDigits(k)\n",
        "        if k <= 9 :\n",
        "            return count\n",
        "\n",
        "print(MDR(341))\n",
        "print(MPersistance(341))"
      ],
      "metadata": {
        "id": "Da8DshxxiZ4w"
      },
      "execution_count": null,
      "outputs": []
    },
    {
      "cell_type": "markdown",
      "source": [
        "##9) Function SumPdivisors() that finds the sum of proper divisors.   "
      ],
      "metadata": {
        "id": "v5SOXDKRXRmI"
      }
    },
    {
      "cell_type": "code",
      "source": [
        "def sumPdivisors(N):\n",
        "\tresult = 0\n",
        "\tdivisor = 1\n",
        "\n",
        "\twhile divisor < N:\n",
        "\t\tif N%divisor == 0:\n",
        "\t\t\tprint(divisor,end=\" \")\n",
        "\t\t\tresult+=divisor\n",
        "\t\tdivisor+=1\n",
        "\n",
        "\tprint(\"\\nSum = {}\".format(result))\n",
        "\n",
        "sumPdivisors(220)"
      ],
      "metadata": {
        "id": "_YoA1AcrXtKj"
      },
      "execution_count": null,
      "outputs": []
    },
    {
      "cell_type": "markdown",
      "source": [
        "\n",
        "\n",
        "\n",
        "##10) Program to print all PERFECT NUMBER in given range as input to function "
      ],
      "metadata": {
        "id": "DLBbR4YHbRIb"
      }
    },
    {
      "cell_type": "code",
      "source": [
        "def sumPdivisors(N):\n",
        "\tresult = 0\n",
        "\tdivisor = 1\n",
        "\n",
        "\twhile divisor < N:\n",
        "\t\tif N%divisor == 0:\n",
        "\t\t\t#print(divisor,end=\" \")\n",
        "\t\t\tresult+=divisor\n",
        "\t\tdivisor+=1\n",
        "\n",
        "\treturn result\n",
        "\n",
        "\n",
        "def PerfectNumber(low,high):\n",
        "\tfor k in range(low,high+1,1):\n",
        "\t\tif k == sumPdivisors(k):\n",
        "\t\t\tprint(k,end=\" \")\n",
        "\n",
        "PerfectNumber(20,84)"
      ],
      "metadata": {
        "id": "ZmODwWgSblcW"
      },
      "execution_count": null,
      "outputs": []
    },
    {
      "cell_type": "markdown",
      "source": [
        "##11) Function to print pairs of Amicable numbers in a range"
      ],
      "metadata": {
        "id": "Cz8MQl8PdjLP"
      }
    },
    {
      "cell_type": "code",
      "source": [
        "def sumPdivisors(N):\n",
        "\tresult = 0\n",
        "\tdivisor = 1\n",
        "\n",
        "\twhile divisor < N:\n",
        "\t\tif N%divisor == 0:\n",
        "\t\t\t#print(divisor,end=\" \")\n",
        "\t\t\tresult+=divisor\n",
        "\t\tdivisor+=1\n",
        "\n",
        "\treturn result\n",
        "\n",
        "def amicable_number(low,high):\n",
        "    lst_sum = []\n",
        "    for k in range(low,high+1):\n",
        "        lst_sum.append([k,sumPdivisors(k)])\n",
        "\n",
        "\n",
        "\n",
        "    for item1 in lst_sum:\n",
        "        for item2 in lst_sum:\n",
        "            if item1 != item2 and item1[0]==item2[1] and item1[1]==item2[0]:\n",
        "                if item1[0] < item2[0]:\n",
        "                    print(\"({},{})\".format(item1[0],item2[0]))\n",
        "\n",
        "amicable_number(200,300)                    "
      ],
      "metadata": {
        "id": "qc5vx-CGeMCm"
      },
      "execution_count": null,
      "outputs": []
    },
    {
      "cell_type": "markdown",
      "source": [
        "##12) Write program which can filter odd number in list using filter(). "
      ],
      "metadata": {
        "id": "N0N0_bI1g6i4"
      }
    },
    {
      "cell_type": "code",
      "source": [
        "def odd_number(Number):\n",
        "    return Number%2 == 1\n",
        "\n",
        "\n",
        "numbers = [int(num) for num in input().split( )]        \n",
        "odd_lst = list(filter(odd_number,numbers))\n",
        "print(odd_lst)"
      ],
      "metadata": {
        "id": "BjAeC1ezhq9J"
      },
      "execution_count": null,
      "outputs": []
    },
    {
      "cell_type": "markdown",
      "source": [
        "##13) Write program which can map() to make list cubes of elements in given list."
      ],
      "metadata": {
        "id": "AKCjpbh0ncV8"
      }
    },
    {
      "cell_type": "code",
      "source": [
        "def PowerOfThree(Number):\n",
        "    return Number**3\n",
        "\n",
        "numbers = [int(num) for num in input().split( )]        \n",
        "cube_lst = list(map(PowerOfThree,numbers))\n",
        "print(cube_lst)"
      ],
      "metadata": {
        "id": "7OXC91ekn0HX"
      },
      "execution_count": null,
      "outputs": []
    },
    {
      "cell_type": "markdown",
      "source": [
        "##14) Write program which can map and filter to make a list whose are cube of even numbers in given list. "
      ],
      "metadata": {
        "id": "zrdM4p4YouKa"
      }
    },
    {
      "cell_type": "code",
      "source": [
        "def PowerOfThree(Number):\n",
        "    return Number**3\n",
        "\n",
        "def even_number(Number):\n",
        "    return Number%2 == 0\n",
        "\n",
        "numbers = [int(num) for num in input().split( )] \n",
        "even_numbers = list(filter(even_number,numbers))\n",
        "cubed_even_numbers = list(map(PowerOfThree,even_numbers))\n",
        "\n",
        "print(cubed_even_numbers)"
      ],
      "metadata": {
        "id": "J9Wu7xeOpCVy"
      },
      "execution_count": null,
      "outputs": []
    }
  ]
}